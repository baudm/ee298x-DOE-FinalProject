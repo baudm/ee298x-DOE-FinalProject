{
 "cells": [
  {
   "cell_type": "code",
   "execution_count": 2,
   "metadata": {},
   "outputs": [],
   "source": [
    "import numpy as np\n",
    "from sklearn.linear_model import LogisticRegression"
   ]
  },
  {
   "cell_type": "code",
   "execution_count": 16,
   "metadata": {},
   "outputs": [
    {
     "name": "stdout",
     "output_type": "stream",
     "text": [
      "(20000, 1280) (20000,) (10000, 1280) (10000,)\n"
     ]
    }
   ],
   "source": [
    "cats = [\n",
    "    'bedroom',\n",
    "    'bridge',\n",
    "    'church_outdoor',\n",
    "    'classroom',\n",
    "    'conference_room',\n",
    "    'dining_room',\n",
    "    'kitchen',\n",
    "    'living_room',\n",
    "    'restaurant',\n",
    "    'tower'\n",
    "]\n",
    "\n",
    "# total: 21,000. split: train = 8,000, val = 4,000, others are unused\n",
    "num_train = 2000\n",
    "num_val = 1000\n",
    "train_labels = np.array([num_train*[i] for i in range(len(cats))]).flatten()\n",
    "\n",
    "train_mnasnet = np.concatenate([np.load('data/{}_train_mnasnet.npy'.format(c))[:num_train] for c in cats])\n",
    "val_mnasnet = np.concatenate([np.load('data/{}_train_mnasnet.npy'.format(c))[num_train:num_train + num_val] for c in cats])\n",
    "\n",
    "train_resnet = np.concatenate([np.load('data/{}_train_resnet.npy'.format(c))[:num_train] for c in cats])\n",
    "val_resnet = np.concatenate([np.load('data/{}_train_resnet.npy'.format(c))[num_train:num_train + num_val] for c in cats])\n",
    "\n",
    "train_features = {\n",
    "    'mnasnet': train_mnasnet,\n",
    "    'resnet': train_resnet\n",
    "}\n",
    "\n",
    "val_labels = np.array([num_val*[i] for i in range(len(cats))]).flatten()\n",
    "val_features = {\n",
    "    'mnasnet': val_mnasnet,\n",
    "    'resnet': val_resnet\n",
    "}\n",
    "print(train_features['mnasnet'].shape, train_labels.shape, val_features['mnasnet'].shape, val_labels.shape)"
   ]
  },
  {
   "cell_type": "code",
   "execution_count": 17,
   "metadata": {},
   "outputs": [
    {
     "name": "stdout",
     "output_type": "stream",
     "text": [
      "Solving... mnasnet newton-cg 0\n"
     ]
    },
    {
     "name": "stderr",
     "output_type": "stream",
     "text": [
      "/home/darwin/.pyenv/versions/3.7.2/envs/pytorch/lib/python3.7/site-packages/scipy/optimize/linesearch.py:313: LineSearchWarning: The line search algorithm did not converge\n",
      "  warn('The line search algorithm did not converge', LineSearchWarning)\n",
      "/home/darwin/.pyenv/versions/3.7.2/envs/pytorch/lib/python3.7/site-packages/sklearn/utils/optimize.py:195: UserWarning: Line Search failed\n",
      "  warnings.warn('Line Search failed')\n"
     ]
    },
    {
     "name": "stdout",
     "output_type": "stream",
     "text": [
      "mnasnet newton-cg 0 0.8478\n",
      "Solving... mnasnet newton-cg 1\n"
     ]
    },
    {
     "name": "stderr",
     "output_type": "stream",
     "text": [
      "/home/darwin/.pyenv/versions/3.7.2/envs/pytorch/lib/python3.7/site-packages/scipy/optimize/linesearch.py:313: LineSearchWarning: The line search algorithm did not converge\n",
      "  warn('The line search algorithm did not converge', LineSearchWarning)\n",
      "/home/darwin/.pyenv/versions/3.7.2/envs/pytorch/lib/python3.7/site-packages/sklearn/utils/optimize.py:195: UserWarning: Line Search failed\n",
      "  warnings.warn('Line Search failed')\n"
     ]
    },
    {
     "name": "stdout",
     "output_type": "stream",
     "text": [
      "mnasnet newton-cg 1 0.8431\n",
      "Solving... mnasnet newton-cg 2\n"
     ]
    },
    {
     "name": "stderr",
     "output_type": "stream",
     "text": [
      "/home/darwin/.pyenv/versions/3.7.2/envs/pytorch/lib/python3.7/site-packages/scipy/optimize/linesearch.py:313: LineSearchWarning: The line search algorithm did not converge\n",
      "  warn('The line search algorithm did not converge', LineSearchWarning)\n",
      "/home/darwin/.pyenv/versions/3.7.2/envs/pytorch/lib/python3.7/site-packages/sklearn/utils/optimize.py:195: UserWarning: Line Search failed\n",
      "  warnings.warn('Line Search failed')\n"
     ]
    },
    {
     "name": "stdout",
     "output_type": "stream",
     "text": [
      "mnasnet newton-cg 2 0.8452\n",
      "Solving... mnasnet lbfgs 0\n"
     ]
    },
    {
     "name": "stderr",
     "output_type": "stream",
     "text": [
      "/home/darwin/.pyenv/versions/3.7.2/envs/pytorch/lib/python3.7/site-packages/sklearn/linear_model/logistic.py:758: ConvergenceWarning: lbfgs failed to converge. Increase the number of iterations.\n",
      "  \"of iterations.\", ConvergenceWarning)\n"
     ]
    },
    {
     "name": "stdout",
     "output_type": "stream",
     "text": [
      "mnasnet lbfgs 0 0.8469\n",
      "Solving... mnasnet lbfgs 1\n"
     ]
    },
    {
     "name": "stderr",
     "output_type": "stream",
     "text": [
      "/home/darwin/.pyenv/versions/3.7.2/envs/pytorch/lib/python3.7/site-packages/sklearn/linear_model/logistic.py:758: ConvergenceWarning: lbfgs failed to converge. Increase the number of iterations.\n",
      "  \"of iterations.\", ConvergenceWarning)\n"
     ]
    },
    {
     "name": "stdout",
     "output_type": "stream",
     "text": [
      "mnasnet lbfgs 1 0.8498\n",
      "Solving... mnasnet lbfgs 2\n"
     ]
    },
    {
     "name": "stderr",
     "output_type": "stream",
     "text": [
      "/home/darwin/.pyenv/versions/3.7.2/envs/pytorch/lib/python3.7/site-packages/sklearn/linear_model/logistic.py:758: ConvergenceWarning: lbfgs failed to converge. Increase the number of iterations.\n",
      "  \"of iterations.\", ConvergenceWarning)\n"
     ]
    },
    {
     "name": "stdout",
     "output_type": "stream",
     "text": [
      "mnasnet lbfgs 2 0.8443\n",
      "Solving... resnet newton-cg 0\n"
     ]
    },
    {
     "name": "stderr",
     "output_type": "stream",
     "text": [
      "/home/darwin/.pyenv/versions/3.7.2/envs/pytorch/lib/python3.7/site-packages/scipy/optimize/linesearch.py:313: LineSearchWarning: The line search algorithm did not converge\n",
      "  warn('The line search algorithm did not converge', LineSearchWarning)\n",
      "/home/darwin/.pyenv/versions/3.7.2/envs/pytorch/lib/python3.7/site-packages/sklearn/utils/optimize.py:195: UserWarning: Line Search failed\n",
      "  warnings.warn('Line Search failed')\n"
     ]
    },
    {
     "name": "stdout",
     "output_type": "stream",
     "text": [
      "resnet newton-cg 0 0.8322\n",
      "Solving... resnet newton-cg 1\n"
     ]
    },
    {
     "name": "stderr",
     "output_type": "stream",
     "text": [
      "/home/darwin/.pyenv/versions/3.7.2/envs/pytorch/lib/python3.7/site-packages/scipy/optimize/linesearch.py:313: LineSearchWarning: The line search algorithm did not converge\n",
      "  warn('The line search algorithm did not converge', LineSearchWarning)\n",
      "/home/darwin/.pyenv/versions/3.7.2/envs/pytorch/lib/python3.7/site-packages/sklearn/utils/optimize.py:195: UserWarning: Line Search failed\n",
      "  warnings.warn('Line Search failed')\n"
     ]
    },
    {
     "name": "stdout",
     "output_type": "stream",
     "text": [
      "resnet newton-cg 1 0.8306\n",
      "Solving... resnet newton-cg 2\n"
     ]
    },
    {
     "name": "stderr",
     "output_type": "stream",
     "text": [
      "/home/darwin/.pyenv/versions/3.7.2/envs/pytorch/lib/python3.7/site-packages/scipy/optimize/linesearch.py:313: LineSearchWarning: The line search algorithm did not converge\n",
      "  warn('The line search algorithm did not converge', LineSearchWarning)\n",
      "/home/darwin/.pyenv/versions/3.7.2/envs/pytorch/lib/python3.7/site-packages/sklearn/utils/optimize.py:195: UserWarning: Line Search failed\n",
      "  warnings.warn('Line Search failed')\n"
     ]
    },
    {
     "name": "stdout",
     "output_type": "stream",
     "text": [
      "resnet newton-cg 2 0.8295\n",
      "Solving... resnet lbfgs 0\n"
     ]
    },
    {
     "name": "stderr",
     "output_type": "stream",
     "text": [
      "/home/darwin/.pyenv/versions/3.7.2/envs/pytorch/lib/python3.7/site-packages/sklearn/linear_model/logistic.py:758: ConvergenceWarning: lbfgs failed to converge. Increase the number of iterations.\n",
      "  \"of iterations.\", ConvergenceWarning)\n"
     ]
    },
    {
     "name": "stdout",
     "output_type": "stream",
     "text": [
      "resnet lbfgs 0 0.8485\n",
      "Solving... resnet lbfgs 1\n"
     ]
    },
    {
     "name": "stderr",
     "output_type": "stream",
     "text": [
      "/home/darwin/.pyenv/versions/3.7.2/envs/pytorch/lib/python3.7/site-packages/sklearn/linear_model/logistic.py:758: ConvergenceWarning: lbfgs failed to converge. Increase the number of iterations.\n",
      "  \"of iterations.\", ConvergenceWarning)\n"
     ]
    },
    {
     "name": "stdout",
     "output_type": "stream",
     "text": [
      "resnet lbfgs 1 0.8458\n",
      "Solving... resnet lbfgs 2\n",
      "resnet lbfgs 2 0.8498\n"
     ]
    },
    {
     "name": "stderr",
     "output_type": "stream",
     "text": [
      "/home/darwin/.pyenv/versions/3.7.2/envs/pytorch/lib/python3.7/site-packages/sklearn/linear_model/logistic.py:758: ConvergenceWarning: lbfgs failed to converge. Increase the number of iterations.\n",
      "  \"of iterations.\", ConvergenceWarning)\n"
     ]
    }
   ],
   "source": [
    "N = len(train_labels)\n",
    "num_replicates = 2\n",
    "solvers = ['newton-cg', 'lbfgs']\n",
    "feat_models = ['mnasnet', 'resnet']\n",
    "for feat_model in feat_models:\n",
    "    for solver in solvers:\n",
    "        for i in range(num_replicates + 1):\n",
    "            print('Solving...', feat_model, solver, i)\n",
    "            order = np.random.randint(0, N, size=N)\n",
    "            model = LogisticRegression(solver=solver, multi_class='multinomial').fit(train_features[feat_model][order], train_labels[order])\n",
    "            score = model.score(val_features[feat_model], val_labels)\n",
    "            print(feat_model, solver, i, score)"
   ]
  },
  {
   "cell_type": "code",
   "execution_count": null,
   "metadata": {},
   "outputs": [],
   "source": []
  }
 ],
 "metadata": {
  "kernelspec": {
   "display_name": "Python 3",
   "language": "python",
   "name": "python3"
  },
  "language_info": {
   "codemirror_mode": {
    "name": "ipython",
    "version": 3
   },
   "file_extension": ".py",
   "mimetype": "text/x-python",
   "name": "python",
   "nbconvert_exporter": "python",
   "pygments_lexer": "ipython3",
   "version": "3.7.2"
  }
 },
 "nbformat": 4,
 "nbformat_minor": 2
}
