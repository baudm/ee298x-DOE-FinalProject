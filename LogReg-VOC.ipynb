{
 "cells": [
  {
   "cell_type": "code",
   "execution_count": 2,
   "metadata": {},
   "outputs": [],
   "source": [
    "import numpy as np\n",
    "from sklearn.linear_model import LogisticRegression"
   ]
  },
  {
   "cell_type": "code",
   "execution_count": 23,
   "metadata": {},
   "outputs": [],
   "source": [
    "train_labels = np.load('data/train_labels.npy')\n",
    "train_features = {\n",
    "    'mnasnet': np.load('data/train_mnasnet.npy'),\n",
    "    'resnet': np.load('data/train_resnet.npy')\n",
    "}\n",
    "val_labels = np.load('data/val_labels.npy')\n",
    "val_features = {\n",
    "    'mnasnet': np.load('data/val_mnasnet.npy'),\n",
    "    'resnet': np.load('data/val_resnet.npy')\n",
    "}"
   ]
  },
  {
   "cell_type": "code",
   "execution_count": 27,
   "metadata": {},
   "outputs": [
    {
     "name": "stdout",
     "output_type": "stream",
     "text": [
      "Solving... mnasnet newton-cg 0\n"
     ]
    },
    {
     "name": "stderr",
     "output_type": "stream",
     "text": [
      "/home/darwin/.pyenv/versions/3.7.2/envs/pytorch/lib/python3.7/site-packages/scipy/optimize/linesearch.py:313: LineSearchWarning: The line search algorithm did not converge\n",
      "  warn('The line search algorithm did not converge', LineSearchWarning)\n",
      "/home/darwin/.pyenv/versions/3.7.2/envs/pytorch/lib/python3.7/site-packages/sklearn/utils/optimize.py:195: UserWarning: Line Search failed\n",
      "  warnings.warn('Line Search failed')\n"
     ]
    },
    {
     "name": "stdout",
     "output_type": "stream",
     "text": [
      "mnasnet newton-cg 0 0.5996886600407136\n",
      "Solving... mnasnet newton-cg 1\n"
     ]
    },
    {
     "name": "stderr",
     "output_type": "stream",
     "text": [
      "/home/darwin/.pyenv/versions/3.7.2/envs/pytorch/lib/python3.7/site-packages/scipy/optimize/linesearch.py:313: LineSearchWarning: The line search algorithm did not converge\n",
      "  warn('The line search algorithm did not converge', LineSearchWarning)\n",
      "/home/darwin/.pyenv/versions/3.7.2/envs/pytorch/lib/python3.7/site-packages/sklearn/utils/optimize.py:195: UserWarning: Line Search failed\n",
      "  warnings.warn('Line Search failed')\n"
     ]
    },
    {
     "name": "stdout",
     "output_type": "stream",
     "text": [
      "mnasnet newton-cg 1 0.6008861214225841\n",
      "Solving... mnasnet newton-cg 2\n"
     ]
    },
    {
     "name": "stderr",
     "output_type": "stream",
     "text": [
      "/home/darwin/.pyenv/versions/3.7.2/envs/pytorch/lib/python3.7/site-packages/scipy/optimize/linesearch.py:313: LineSearchWarning: The line search algorithm did not converge\n",
      "  warn('The line search algorithm did not converge', LineSearchWarning)\n",
      "/home/darwin/.pyenv/versions/3.7.2/envs/pytorch/lib/python3.7/site-packages/sklearn/utils/optimize.py:195: UserWarning: Line Search failed\n",
      "  warnings.warn('Line Search failed')\n"
     ]
    },
    {
     "name": "stdout",
     "output_type": "stream",
     "text": [
      "mnasnet newton-cg 2 0.5988504370734044\n",
      "Solving... mnasnet lbfgs 0\n"
     ]
    },
    {
     "name": "stderr",
     "output_type": "stream",
     "text": [
      "/home/darwin/.pyenv/versions/3.7.2/envs/pytorch/lib/python3.7/site-packages/sklearn/linear_model/logistic.py:758: ConvergenceWarning: lbfgs failed to converge. Increase the number of iterations.\n",
      "  \"of iterations.\", ConvergenceWarning)\n"
     ]
    },
    {
     "name": "stdout",
     "output_type": "stream",
     "text": [
      "mnasnet lbfgs 0 0.5986109447970303\n",
      "Solving... mnasnet lbfgs 1\n"
     ]
    },
    {
     "name": "stderr",
     "output_type": "stream",
     "text": [
      "/home/darwin/.pyenv/versions/3.7.2/envs/pytorch/lib/python3.7/site-packages/sklearn/linear_model/logistic.py:758: ConvergenceWarning: lbfgs failed to converge. Increase the number of iterations.\n",
      "  \"of iterations.\", ConvergenceWarning)\n"
     ]
    },
    {
     "name": "stdout",
     "output_type": "stream",
     "text": [
      "mnasnet lbfgs 1 0.5946593222368579\n",
      "Solving... mnasnet lbfgs 2\n"
     ]
    },
    {
     "name": "stderr",
     "output_type": "stream",
     "text": [
      "/home/darwin/.pyenv/versions/3.7.2/envs/pytorch/lib/python3.7/site-packages/sklearn/linear_model/logistic.py:758: ConvergenceWarning: lbfgs failed to converge. Increase the number of iterations.\n",
      "  \"of iterations.\", ConvergenceWarning)\n"
     ]
    },
    {
     "name": "stdout",
     "output_type": "stream",
     "text": [
      "mnasnet lbfgs 2 0.6000478984552748\n",
      "Solving... resnet newton-cg 0\n"
     ]
    },
    {
     "name": "stderr",
     "output_type": "stream",
     "text": [
      "/home/darwin/.pyenv/versions/3.7.2/envs/pytorch/lib/python3.7/site-packages/scipy/optimize/linesearch.py:313: LineSearchWarning: The line search algorithm did not converge\n",
      "  warn('The line search algorithm did not converge', LineSearchWarning)\n",
      "/home/darwin/.pyenv/versions/3.7.2/envs/pytorch/lib/python3.7/site-packages/sklearn/utils/optimize.py:195: UserWarning: Line Search failed\n",
      "  warnings.warn('Line Search failed')\n"
     ]
    },
    {
     "name": "stdout",
     "output_type": "stream",
     "text": [
      "resnet newton-cg 0 0.5709495868758232\n",
      "Solving... resnet newton-cg 1\n"
     ]
    },
    {
     "name": "stderr",
     "output_type": "stream",
     "text": [
      "/home/darwin/.pyenv/versions/3.7.2/envs/pytorch/lib/python3.7/site-packages/scipy/optimize/linesearch.py:313: LineSearchWarning: The line search algorithm did not converge\n",
      "  warn('The line search algorithm did not converge', LineSearchWarning)\n",
      "/home/darwin/.pyenv/versions/3.7.2/envs/pytorch/lib/python3.7/site-packages/sklearn/utils/optimize.py:195: UserWarning: Line Search failed\n",
      "  warnings.warn('Line Search failed')\n"
     ]
    },
    {
     "name": "stdout",
     "output_type": "stream",
     "text": [
      "resnet newton-cg 1 0.5752604478505569\n",
      "Solving... resnet newton-cg 2\n"
     ]
    },
    {
     "name": "stderr",
     "output_type": "stream",
     "text": [
      "/home/darwin/.pyenv/versions/3.7.2/envs/pytorch/lib/python3.7/site-packages/scipy/optimize/linesearch.py:313: LineSearchWarning: The line search algorithm did not converge\n",
      "  warn('The line search algorithm did not converge', LineSearchWarning)\n",
      "/home/darwin/.pyenv/versions/3.7.2/envs/pytorch/lib/python3.7/site-packages/sklearn/utils/optimize.py:195: UserWarning: Line Search failed\n",
      "  warnings.warn('Line Search failed')\n"
     ]
    },
    {
     "name": "stdout",
     "output_type": "stream",
     "text": [
      "resnet newton-cg 2 0.5681954256975212\n",
      "Solving... resnet lbfgs 0\n"
     ]
    },
    {
     "name": "stderr",
     "output_type": "stream",
     "text": [
      "/home/darwin/.pyenv/versions/3.7.2/envs/pytorch/lib/python3.7/site-packages/sklearn/linear_model/logistic.py:758: ConvergenceWarning: lbfgs failed to converge. Increase the number of iterations.\n",
      "  \"of iterations.\", ConvergenceWarning)\n"
     ]
    },
    {
     "name": "stdout",
     "output_type": "stream",
     "text": [
      "resnet lbfgs 0 0.5917854149203688\n",
      "Solving... resnet lbfgs 1\n"
     ]
    },
    {
     "name": "stderr",
     "output_type": "stream",
     "text": [
      "/home/darwin/.pyenv/versions/3.7.2/envs/pytorch/lib/python3.7/site-packages/sklearn/linear_model/logistic.py:758: ConvergenceWarning: lbfgs failed to converge. Increase the number of iterations.\n",
      "  \"of iterations.\", ConvergenceWarning)\n"
     ]
    },
    {
     "name": "stdout",
     "output_type": "stream",
     "text": [
      "resnet lbfgs 1 0.5946593222368579\n",
      "Solving... resnet lbfgs 2\n",
      "resnet lbfgs 2 0.5904682074003114\n"
     ]
    },
    {
     "name": "stderr",
     "output_type": "stream",
     "text": [
      "/home/darwin/.pyenv/versions/3.7.2/envs/pytorch/lib/python3.7/site-packages/sklearn/linear_model/logistic.py:758: ConvergenceWarning: lbfgs failed to converge. Increase the number of iterations.\n",
      "  \"of iterations.\", ConvergenceWarning)\n"
     ]
    }
   ],
   "source": [
    "N = len(train_labels)\n",
    "num_replicates = 2\n",
    "solvers = ['newton-cg', 'lbfgs']\n",
    "feat_models = ['mnasnet', 'resnet']\n",
    "for feat_model in feat_models:\n",
    "    for solver in solvers:\n",
    "        for i in range(num_replicates + 1):\n",
    "            print('Solving...', feat_model, solver, i)\n",
    "            order = np.random.randint(0, N, size=N)\n",
    "            model = LogisticRegression(solver=solver, multi_class='multinomial').fit(train_features[feat_model][order], train_labels[order])\n",
    "            score = model.score(val_features[feat_model], val_labels)\n",
    "            print(feat_model, solver, i, score)"
   ]
  },
  {
   "cell_type": "code",
   "execution_count": null,
   "metadata": {},
   "outputs": [],
   "source": []
  }
 ],
 "metadata": {
  "kernelspec": {
   "display_name": "Python 3",
   "language": "python",
   "name": "python3"
  },
  "language_info": {
   "codemirror_mode": {
    "name": "ipython",
    "version": 3
   },
   "file_extension": ".py",
   "mimetype": "text/x-python",
   "name": "python",
   "nbconvert_exporter": "python",
   "pygments_lexer": "ipython3",
   "version": "3.7.2"
  }
 },
 "nbformat": 4,
 "nbformat_minor": 2
}
